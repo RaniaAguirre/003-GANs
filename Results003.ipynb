{
 "cells": [
  {
   "cell_type": "markdown",
   "id": "f1c9a95d-6980-438c-a8a1-30a452cf8e05",
   "metadata": {},
   "source": [
    "# Project 3\n",
    "\n",
    "## 003 Technical Analysis\n",
    "\n",
    "<img style=\"float: right; margin: 10px 0 10px 15px;\" \n",
    " src=\"https://upload.wikimedia.org/wikipedia/commons/d/db/Logo_ITESO_normal.jpg\" \n",
    " title=\"ITESO Logo\" width=\"180\" height=\"100\">\n",
    "\n",
    "---\n",
    "\n",
    "**Team Members:**\n",
    "\n",
    "- **Rania Aguirre**\n",
    "- **Ramón Castañeda**\n",
    "- **Edson Oronia**\n",
    "\n",
    "---"
   ]
  },
  {
   "cell_type": "markdown",
   "id": "a2ce1987-8c0c-4b7b-aa5f-65672537715b",
   "metadata": {},
   "source": [
    "**For Discriminator**\n",
    "\n",
    "The discriminator is a sequential deep neural network acting as a binary classifier, deciding if a sample is real or generated. It includes the following layers:\n",
    "\n",
    "- Input Layer: A dense layer with 128 neurons using relu activation, with an input shape of (252, 1), corresponding to a time-series length of 252 steps.\n",
    "- Hidden Layers: Three dense layers with 128, 64, and 32 neurons using relu activation, extracting features at various levels of abstraction.\n",
    "- Output Layer: A single neuron with sigmoid activation to classify the input as real or generated (1 or 0, respectively).\n",
    "\n",
    "**For Generator**\n",
    "\n",
    "The generator produces synthetic data sequences with the following layers:\n",
    "\n",
    "- Input Layer: Accepts a vector of size 500, treated as the latent space or initial noise.\n",
    "- Hidden Layers: Four dense layers with 128, 256, 512, and 256 neurons using relu activation, which expand and transform the latent space into the desired feature representation.\n",
    "- Output Layer: A dense layer with 252 neurons and linear activation, generating a sequence of 252 time steps."
   ]
  },
  {
   "cell_type": "markdown",
   "id": "48c2ef51-1dd8-4a25-bdcf-7c26b73531f5",
   "metadata": {},
   "source": [
    "![Modelo_Proceso](proyectin.py/Grafica1.png)"
   ]
  },
  {
   "cell_type": "markdown",
   "id": "2464355a-bff2-4e35-81a6-df23d30924ac",
   "metadata": {},
   "source": [
    "In this chart, we can see the first year of data for the AAPL stock (from November 2014 to November 2015) alongside the generated scenarios. It is worth mentioning that although only one year is shown, the neural network plotted this first year based on the 10 years of historical data downloaded (from November 2014 to November 2024).\n",
    "\n",
    "We can observe how the simulated scenarios move in the opposite direction to the clear bullish behavior of the stock. This mismatch suggests that the neural network used fails to capture the trends and patterns AAPL went through during these 10 years, indicating that the reliability of the built GAN model is minimal or highly variable depending on the run being executed."
   ]
  },
  {
   "cell_type": "markdown",
   "id": "20f538b9-7a02-4619-a226-79b6bbe6a98f",
   "metadata": {},
   "source": [
    "![Modelo_Proceso](proyectin.py/Grafica2.png)"
   ]
  },
  {
   "cell_type": "markdown",
   "id": "f932c299-e60d-4a36-8be9-d274a4529d1e",
   "metadata": {},
   "source": [
    "We used Bollinger Bands to identify buying opportunities and tried to maximize our Sharpe Ratio by using different Stop Loss and Take Profit levels. For the generated scenarios, our best Sharpe Ratio occurred with a Stop Loss of 1% and a Take Profit of 1%; however, it was negative, and the value of our portfolio decreased by 0.5%.\n",
    "\n",
    "The downward trend in our simulations partly explains why, when identifying sell signals, we ended up hitting the Stop Loss first rather than the Take Profit. This also makes sense given that the TP and SL used were at the 1% level and not higher pairs (our TP and SL ranged from 1% to 11% in equal pairs)."
   ]
  },
  {
   "cell_type": "markdown",
   "id": "37c36339-dbf6-44d1-bbf3-0728c03169db",
   "metadata": {},
   "source": [
    "![Modelo_Proceso](proyectin.py/Grafica3.png)"
   ]
  },
  {
   "cell_type": "markdown",
   "id": "62f2a164-af2a-4133-ad4e-22654ed495ec",
   "metadata": {},
   "source": [
    "In this second chart, we see the performance of our portfolio of scenarios explained earlier, compared with that of AAPL stock during that period. It would simply have been better to invest directly in the stock rather than follow the strategy implemented."
   ]
  },
  {
   "cell_type": "code",
   "execution_count": 35,
   "id": "fbbb0b19-21e5-4619-940a-0655a6bf06bd",
   "metadata": {},
   "outputs": [],
   "source": []
  }
 ],
 "metadata": {
  "kernelspec": {
   "display_name": "Python 3 (ipykernel)",
   "language": "python",
   "name": "python3"
  },
  "language_info": {
   "codemirror_mode": {
    "name": "ipython",
    "version": 3
   },
   "file_extension": ".py",
   "mimetype": "text/x-python",
   "name": "python",
   "nbconvert_exporter": "python",
   "pygments_lexer": "ipython3",
   "version": "3.8.20"
  }
 },
 "nbformat": 4,
 "nbformat_minor": 5
}
