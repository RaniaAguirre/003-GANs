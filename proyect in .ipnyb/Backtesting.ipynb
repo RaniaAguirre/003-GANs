{
 "cells": [
  {
   "cell_type": "code",
   "execution_count": 1,
   "id": "601cea65-fda1-409d-8224-aedeccf36267",
   "metadata": {},
   "outputs": [],
   "source": [
    "import numpy as np\n",
    "import pandas as pd\n",
    "import ta\n",
    "from collections import namedtuple\n",
    "from FunctionsGANs import generator, prepare_stock_data, stock, simulate_price_scenarios, backtest_strategy"
   ]
  },
  {
   "cell_type": "code",
   "execution_count": 2,
   "id": "9dae4b92-8e88-4288-bb4e-83aac86760c3",
   "metadata": {},
   "outputs": [
    {
     "name": "stderr",
     "output_type": "stream",
     "text": [
      "[*********************100%***********************]  1 of 1 completed\n"
     ]
    }
   ],
   "source": [
    "stock, log_ret = stock('AAPL', '2014-11-01', '2024-11-17')"
   ]
  },
  {
   "cell_type": "code",
   "execution_count": 3,
   "id": "dc256251-fa85-4007-995f-1ac9c8aed6e0",
   "metadata": {},
   "outputs": [],
   "source": [
    "noise = np.load('noise.npy')\n",
    "generated_series = np.load('generated_series.npy')"
   ]
  },
  {
   "cell_type": "code",
   "execution_count": 4,
   "id": "f33faadb-b0a5-4931-a9ed-49de1b5f13fd",
   "metadata": {},
   "outputs": [],
   "source": [
    "data = simulate_price_scenarios(generated_series, log_ret, stock)"
   ]
  },
  {
   "cell_type": "code",
   "execution_count": 5,
   "id": "3a479a5d-7aad-4a79-9280-54af339d9a63",
   "metadata": {},
   "outputs": [],
   "source": [
    "stop_loss_levels = [.01,.02,.03,.04,.05,.06,.07,.08,.09,.1]\n",
    "take_profit_levels = [.01,.02,.03,.04,.05,.06,.07,.08,.09,.1]"
   ]
  },
  {
   "cell_type": "code",
   "execution_count": 6,
   "id": "e9c7d978-d2dc-492f-a932-d3c0bd3b35ba",
   "metadata": {},
   "outputs": [
    {
     "data": {
      "text/plain": [
       "{'0.01-0.01': -0.16104304861782023,\n",
       " '0.02-0.02': -0.1307753874525572,\n",
       " '0.03-0.03': -0.12239736002160186,\n",
       " '0.04-0.04': -0.1167819474119316,\n",
       " '0.05-0.05': -0.1085179809235166,\n",
       " '0.06-0.06': -0.09947964581922589,\n",
       " '0.07-0.07': -0.09266901090430826,\n",
       " '0.08-0.08': -0.08718769492680302,\n",
       " '0.09-0.09': -0.0836858523078091,\n",
       " '0.1-0.1': -0.08226705661697972}"
      ]
     },
     "execution_count": 6,
     "metadata": {},
     "output_type": "execute_result"
    }
   ],
   "source": [
    "results = backtest_strategy(data, stop_loss_levels, take_profit_levels)\n",
    "results"
   ]
  },
  {
   "cell_type": "code",
   "execution_count": 7,
   "id": "c745c9a9-93e3-42f1-b4e9-e241228846d8",
   "metadata": {},
   "outputs": [
    {
     "name": "stdout",
     "output_type": "stream",
     "text": [
      "Mejor Stop-Loss y Take-Profit:\n",
      "Stop-Loss y Take-Profit: 0.1-0.1\n",
      "Sharpe Ratio promedio: -0.08226705661697972\n"
     ]
    }
   ],
   "source": [
    "# Encontrar el mejor Sharpe Ratio y los correspondientes niveles de stop-loss y take-profit\n",
    "best_sl_tp = max(results, key=results.get)\n",
    "best_sharpe_ratio = results[best_sl_tp]\n",
    "\n",
    "print(\"Mejor Stop-Loss y Take-Profit:\")\n",
    "print(f\"Stop-Loss y Take-Profit: {best_sl_tp}\")\n",
    "print(f\"Sharpe Ratio promedio: {best_sharpe_ratio}\")\n"
   ]
  },
  {
   "cell_type": "code",
   "execution_count": null,
   "id": "fd993730-1c02-4b83-ac4f-3bd9439392ad",
   "metadata": {},
   "outputs": [],
   "source": []
  }
 ],
 "metadata": {
  "kernelspec": {
   "display_name": "Python 3 (ipykernel)",
   "language": "python",
   "name": "python3"
  },
  "language_info": {
   "codemirror_mode": {
    "name": "ipython",
    "version": 3
   },
   "file_extension": ".py",
   "mimetype": "text/x-python",
   "name": "python",
   "nbconvert_exporter": "python",
   "pygments_lexer": "ipython3",
   "version": "3.11.7"
  }
 },
 "nbformat": 4,
 "nbformat_minor": 5
}
