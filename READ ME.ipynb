{
 "cells": [
  {
   "cell_type": "markdown",
   "id": "fd7ddc23-641c-49ad-95d8-35f1ee1f93c0",
   "metadata": {},
   "source": [
    "# Stock Trading Strategy with GAN\n",
    "\n",
    "by: Rania Aguirre,\n",
    "    Ramon Castañeda,\n",
    "    Edson Oronia\n",
    "    \n",
    "\n",
    "## Project Description\n",
    "\n",
    "This project involves using Generative Adversarial Networks (GANs) to generate synthetic stock data for backtesting an algorithmic trading strategy. The goal is to develop a simple strategy, backtest it using real and generated data, and evaluate its performance using various financial metrics.\n",
    "\n",
    "The project is divided into several parts:\n",
    "\n",
    "1. **Data Collection:** Download 10 years of historical stock data for a single stock.We will be using APPLE\n",
    "2. **Model Training:** Use GANs to generate multiple synthetic stock scenarios to enhance backtesting.\n",
    "3. **Strategy Development:** Develop an algorithmic trading strategy (basic version, no hyperparameter optimization yet). We used Bollinger bands.\n",
    "4. **Backtesting:** Backtest the trading strategy using both real data and 100 generated scenarios, testing different stop-loss/take-profit levels.\n",
    "5. **Benchmark Strategy:** Create a passive benchmark strategy for comparison.\n",
    "6. **Performance Metrics:** Measure and present performance metrics such as Sharpe ratio, Calmar ratio, max drawdown, profit and loss (P&L), and win-loss ratio, assuming a risk-free rate of 0.\n",
    "7. **Visual Results:** Generate and display various plots such as operations, candlestick charts, trading signals, portfolio value over time, etc.\n",
    "\n",
    "## Project Structure\n",
    "\n",
    "The project is organized into the following directory structure:\n",
    "\n"
   ]
  },
  {
   "cell_type": "markdown",
   "id": "205398fc-da05-4ceb-8bdf-b1c325942ccd",
   "metadata": {},
   "source": [
    "### 1. Clone the repository\n",
    "    https://github.com/RaniaAguirre/003-GANs.git\n",
    "### 2. Install dependencies\n",
    "    'requirements.txt'\n",
    "### 3. Download stock data\n",
    "    'data.py'\n",
    "### 4. Train the GAN model\n",
    "    'main.py'\n",
    "### 5. Backtest the strategy\n",
    "    'main.py'\n",
    "### 6. Evaluate the performance\n",
    "    'Results.ipynb'\n",
    "### 7. View results\n",
    "    'Results.ipynb'"
   ]
  }
 ],
 "metadata": {
  "kernelspec": {
   "display_name": "Python 3 (ipykernel)",
   "language": "python",
   "name": "python3"
  },
  "language_info": {
   "codemirror_mode": {
    "name": "ipython",
    "version": 3
   },
   "file_extension": ".py",
   "mimetype": "text/x-python",
   "name": "python",
   "nbconvert_exporter": "python",
   "pygments_lexer": "ipython3",
   "version": "3.11.7"
  }
 },
 "nbformat": 4,
 "nbformat_minor": 5
}
